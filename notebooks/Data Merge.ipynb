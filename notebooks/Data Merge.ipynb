{
 "cells": [
  {
   "cell_type": "code",
   "execution_count": 1,
   "id": "deb29b28-c924-4f2c-b5ac-f3a0e97ef26e",
   "metadata": {},
   "outputs": [],
   "source": [
    "import pandas as pd"
   ]
  },
  {
   "cell_type": "code",
   "execution_count": 2,
   "id": "c4db2bcc-6aea-4b9e-8a7b-850a6393d54b",
   "metadata": {},
   "outputs": [],
   "source": [
    "df =  pd.read_csv(\"../data/Unemployment in India.csv\")\n",
    "df2 = pd.read_csv(\"../data/Unemployment_Rate_upto_11_2020.csv\")"
   ]
  },
  {
   "cell_type": "code",
   "execution_count": 3,
   "id": "625725cf-3f5c-4bbb-920e-b9f63a0c8bb8",
   "metadata": {},
   "outputs": [],
   "source": [
    "df['Area'] = df.Area.map({'Rural': 'South', 'Urban': 'Northeast'})\n",
    "df.dropna(inplace=True)\n",
    "df.reset_index(inplace=True,drop=True)\n",
    "\n",
    "\n",
    "df2.drop(['longitude', 'latitude'],axis=1,inplace=True)"
   ]
  },
  {
   "cell_type": "code",
   "execution_count": 4,
   "id": "190e4e98-7ae3-44a7-882c-201358ecdbb9",
   "metadata": {},
   "outputs": [
    {
     "name": "stdout",
     "output_type": "stream",
     "text": [
      "Index(['Region', ' Date', ' Frequency', ' Estimated Unemployment Rate (%)',\n",
      "       ' Estimated Employed', ' Estimated Labour Participation Rate (%)',\n",
      "       'Region.1'],\n",
      "      dtype='object')\n",
      "Index(['Region', ' Date', ' Frequency', ' Estimated Unemployment Rate (%)',\n",
      "       ' Estimated Employed', ' Estimated Labour Participation Rate (%)',\n",
      "       'Area'],\n",
      "      dtype='object')\n"
     ]
    }
   ],
   "source": [
    "print(df2.columns);print(df.columns)"
   ]
  },
  {
   "cell_type": "code",
   "execution_count": 5,
   "id": "528aa25a-c461-4631-995f-8ac32f5a3b50",
   "metadata": {},
   "outputs": [],
   "source": [
    "df.columns = ['Region', 'Date', 'Frequency', 'Estimated Unemployment Rate (%)',\n",
    "       'Estimated Employed', 'Estimated Labour Participation Rate (%)',\n",
    "       'Area']\n",
    "df2.columns = ['Region', 'Date', 'Frequency', 'Estimated Unemployment Rate (%)',\n",
    "       'Estimated Employed','Estimated Labour Participation Rate (%)',\n",
    "       'Area']"
   ]
  },
  {
   "cell_type": "code",
   "execution_count": 6,
   "id": "f428ac5d-2fed-42fb-9812-cf7b34aab0b0",
   "metadata": {},
   "outputs": [],
   "source": [
    "df.Frequency= df['Frequency'].apply(lambda x: 'M')"
   ]
  },
  {
   "cell_type": "code",
   "execution_count": 7,
   "id": "f3ee2b20-9f41-4062-8c0c-0659bd002521",
   "metadata": {},
   "outputs": [
    {
     "data": {
      "text/html": [
       "<div>\n",
       "<style scoped>\n",
       "    .dataframe tbody tr th:only-of-type {\n",
       "        vertical-align: middle;\n",
       "    }\n",
       "\n",
       "    .dataframe tbody tr th {\n",
       "        vertical-align: top;\n",
       "    }\n",
       "\n",
       "    .dataframe thead th {\n",
       "        text-align: right;\n",
       "    }\n",
       "</style>\n",
       "<table border=\"1\" class=\"dataframe\">\n",
       "  <thead>\n",
       "    <tr style=\"text-align: right;\">\n",
       "      <th></th>\n",
       "      <th>Region</th>\n",
       "      <th>Date</th>\n",
       "      <th>Frequency</th>\n",
       "      <th>Estimated Unemployment Rate (%)</th>\n",
       "      <th>Estimated Employed</th>\n",
       "      <th>Estimated Labour Participation Rate (%)</th>\n",
       "      <th>Area</th>\n",
       "    </tr>\n",
       "  </thead>\n",
       "  <tbody>\n",
       "    <tr>\n",
       "      <th>0</th>\n",
       "      <td>Andhra Pradesh</td>\n",
       "      <td>31-05-2019</td>\n",
       "      <td>M</td>\n",
       "      <td>3.65</td>\n",
       "      <td>11999139.0</td>\n",
       "      <td>43.24</td>\n",
       "      <td>South</td>\n",
       "    </tr>\n",
       "    <tr>\n",
       "      <th>1</th>\n",
       "      <td>Andhra Pradesh</td>\n",
       "      <td>30-06-2019</td>\n",
       "      <td>M</td>\n",
       "      <td>3.05</td>\n",
       "      <td>11755881.0</td>\n",
       "      <td>42.05</td>\n",
       "      <td>South</td>\n",
       "    </tr>\n",
       "    <tr>\n",
       "      <th>2</th>\n",
       "      <td>Andhra Pradesh</td>\n",
       "      <td>31-07-2019</td>\n",
       "      <td>M</td>\n",
       "      <td>3.75</td>\n",
       "      <td>12086707.0</td>\n",
       "      <td>43.50</td>\n",
       "      <td>South</td>\n",
       "    </tr>\n",
       "    <tr>\n",
       "      <th>3</th>\n",
       "      <td>Andhra Pradesh</td>\n",
       "      <td>31-08-2019</td>\n",
       "      <td>M</td>\n",
       "      <td>3.32</td>\n",
       "      <td>12285693.0</td>\n",
       "      <td>43.97</td>\n",
       "      <td>South</td>\n",
       "    </tr>\n",
       "    <tr>\n",
       "      <th>4</th>\n",
       "      <td>Andhra Pradesh</td>\n",
       "      <td>30-09-2019</td>\n",
       "      <td>M</td>\n",
       "      <td>5.17</td>\n",
       "      <td>12256762.0</td>\n",
       "      <td>44.68</td>\n",
       "      <td>South</td>\n",
       "    </tr>\n",
       "    <tr>\n",
       "      <th>...</th>\n",
       "      <td>...</td>\n",
       "      <td>...</td>\n",
       "      <td>...</td>\n",
       "      <td>...</td>\n",
       "      <td>...</td>\n",
       "      <td>...</td>\n",
       "      <td>...</td>\n",
       "    </tr>\n",
       "    <tr>\n",
       "      <th>735</th>\n",
       "      <td>West Bengal</td>\n",
       "      <td>29-02-2020</td>\n",
       "      <td>M</td>\n",
       "      <td>7.55</td>\n",
       "      <td>10871168.0</td>\n",
       "      <td>44.09</td>\n",
       "      <td>Northeast</td>\n",
       "    </tr>\n",
       "    <tr>\n",
       "      <th>736</th>\n",
       "      <td>West Bengal</td>\n",
       "      <td>31-03-2020</td>\n",
       "      <td>M</td>\n",
       "      <td>6.67</td>\n",
       "      <td>10806105.0</td>\n",
       "      <td>43.34</td>\n",
       "      <td>Northeast</td>\n",
       "    </tr>\n",
       "    <tr>\n",
       "      <th>737</th>\n",
       "      <td>West Bengal</td>\n",
       "      <td>30-04-2020</td>\n",
       "      <td>M</td>\n",
       "      <td>15.63</td>\n",
       "      <td>9299466.0</td>\n",
       "      <td>41.20</td>\n",
       "      <td>Northeast</td>\n",
       "    </tr>\n",
       "    <tr>\n",
       "      <th>738</th>\n",
       "      <td>West Bengal</td>\n",
       "      <td>31-05-2020</td>\n",
       "      <td>M</td>\n",
       "      <td>15.22</td>\n",
       "      <td>9240903.0</td>\n",
       "      <td>40.67</td>\n",
       "      <td>Northeast</td>\n",
       "    </tr>\n",
       "    <tr>\n",
       "      <th>739</th>\n",
       "      <td>West Bengal</td>\n",
       "      <td>30-06-2020</td>\n",
       "      <td>M</td>\n",
       "      <td>9.86</td>\n",
       "      <td>9088931.0</td>\n",
       "      <td>37.57</td>\n",
       "      <td>Northeast</td>\n",
       "    </tr>\n",
       "  </tbody>\n",
       "</table>\n",
       "<p>740 rows × 7 columns</p>\n",
       "</div>"
      ],
      "text/plain": [
       "             Region         Date Frequency  Estimated Unemployment Rate (%)  \\\n",
       "0    Andhra Pradesh   31-05-2019         M                             3.65   \n",
       "1    Andhra Pradesh   30-06-2019         M                             3.05   \n",
       "2    Andhra Pradesh   31-07-2019         M                             3.75   \n",
       "3    Andhra Pradesh   31-08-2019         M                             3.32   \n",
       "4    Andhra Pradesh   30-09-2019         M                             5.17   \n",
       "..              ...          ...       ...                              ...   \n",
       "735     West Bengal   29-02-2020         M                             7.55   \n",
       "736     West Bengal   31-03-2020         M                             6.67   \n",
       "737     West Bengal   30-04-2020         M                            15.63   \n",
       "738     West Bengal   31-05-2020         M                            15.22   \n",
       "739     West Bengal   30-06-2020         M                             9.86   \n",
       "\n",
       "     Estimated Employed  Estimated Labour Participation Rate (%)       Area  \n",
       "0            11999139.0                                    43.24      South  \n",
       "1            11755881.0                                    42.05      South  \n",
       "2            12086707.0                                    43.50      South  \n",
       "3            12285693.0                                    43.97      South  \n",
       "4            12256762.0                                    44.68      South  \n",
       "..                  ...                                      ...        ...  \n",
       "735          10871168.0                                    44.09  Northeast  \n",
       "736          10806105.0                                    43.34  Northeast  \n",
       "737           9299466.0                                    41.20  Northeast  \n",
       "738           9240903.0                                    40.67  Northeast  \n",
       "739           9088931.0                                    37.57  Northeast  \n",
       "\n",
       "[740 rows x 7 columns]"
      ]
     },
     "execution_count": 7,
     "metadata": {},
     "output_type": "execute_result"
    }
   ],
   "source": [
    "df"
   ]
  },
  {
   "cell_type": "code",
   "execution_count": 8,
   "id": "fc27859a-235c-42a7-95db-b6a55befa369",
   "metadata": {},
   "outputs": [],
   "source": [
    "df2['Frequency'] = df['Frequency'].apply(lambda x: \"M\")"
   ]
  },
  {
   "cell_type": "code",
   "execution_count": 9,
   "id": "87a8353f-ebcc-477a-901b-8b1516745e89",
   "metadata": {},
   "outputs": [],
   "source": [
    "for i in range(df.shape[0]):\n",
    "    if df.iloc[i].tolist() == df2.iloc[0].tolist():\n",
    "        print('yes it match')\n",
    "    else:\n",
    "        None"
   ]
  },
  {
   "cell_type": "code",
   "execution_count": 10,
   "id": "97f40342-57ce-4960-bf8e-a8554e162d42",
   "metadata": {},
   "outputs": [],
   "source": [
    "full = pd.concat([df, df2], ignore_index=True)"
   ]
  },
  {
   "cell_type": "code",
   "execution_count": 11,
   "id": "53ecc4fd-8e53-4413-95b0-6595ee09d6a9",
   "metadata": {},
   "outputs": [],
   "source": [
    "full.to_csv(\"../data/Full Data Unemployment Rate in India.csv\",index=False)"
   ]
  },
  {
   "cell_type": "code",
   "execution_count": null,
   "id": "f8a49f9c-9ece-441d-8aff-30f45906a8e5",
   "metadata": {},
   "outputs": [],
   "source": []
  }
 ],
 "metadata": {
  "kernelspec": {
   "display_name": "Python [conda env:ds] *",
   "language": "python",
   "name": "conda-env-ds-py"
  },
  "language_info": {
   "codemirror_mode": {
    "name": "ipython",
    "version": 3
   },
   "file_extension": ".py",
   "mimetype": "text/x-python",
   "name": "python",
   "nbconvert_exporter": "python",
   "pygments_lexer": "ipython3",
   "version": "3.12.11"
  }
 },
 "nbformat": 4,
 "nbformat_minor": 5
}
